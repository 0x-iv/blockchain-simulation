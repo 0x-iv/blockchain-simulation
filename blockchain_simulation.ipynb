{
 "cells": [
  {
   "cell_type": "markdown",
   "id": "f7fc2ea6",
   "metadata": {},
   "source": [
    "# Demonstration of Proof-of-Work and Mining using Python"
   ]
  },
  {
   "cell_type": "markdown",
   "id": "0db284d3",
   "metadata": {},
   "source": [
    "### Importing the SHA-256 hashing algorithm"
   ]
  },
  {
   "cell_type": "code",
   "execution_count": 1,
   "id": "89503dfb",
   "metadata": {},
   "outputs": [],
   "source": [
    "from hashlib import sha256"
   ]
  },
  {
   "cell_type": "markdown",
   "id": "d0da74ac",
   "metadata": {},
   "source": [
    "### Defining the function that will output the data using the hashing algorithm"
   ]
  },
  {
   "cell_type": "markdown",
   "id": "9f5f6040",
   "metadata": {},
   "source": [
    "Hashing algorithms are the backbone of the security in the blockchain. They are one-way mathematical functions that are computationally infeasible to reverse-engineer. They take in input data, and output data of a fixed length."
   ]
  },
  {
   "cell_type": "code",
   "execution_count": 2,
   "id": "5d5bb002",
   "metadata": {},
   "outputs": [],
   "source": [
    "def updatehash(*args):\n",
    "    hashing_text = ''; h = sha256()\n",
    "    for arg in args:\n",
    "        hashing_text += str(arg)\n",
    "\n",
    "    h.update(hashing_text.encode('utf-8'))\n",
    "    return h.hexdigest()\n"
   ]
  },
  {
   "cell_type": "markdown",
   "id": "b8d22b6f",
   "metadata": {},
   "source": [
    "#### An elementary comparison/explanation of hashing: Name Initials"
   ]
  },
  {
   "cell_type": "markdown",
   "id": "8e5b797e",
   "metadata": {},
   "source": [
    "Assume that in this case, we have a list of people's names. <br>\n",
    "The names will be the input data, and we want the output data to be a fixed string of 3 letters.<br><br>\n",
    "```\"John F. Kennedy\"```  &rarr;  ```\"JFK\"```<br>\n",
    "```\"George W. Bush\"```  &rarr;  ```\"GWB\"```<br>\n",
    "```\"Franklin D. Roosevelt\"```  &rarr;  ```\"FDR\"```<br><br>\n",
    "However, we know that in defining initials there is a rule where we take the first letter of the first, middle, and last names. This is an example of a one-way function; if someone were to ask you to guess the whole name only given three initials, say, GWB, you would <i>most likely</i> not be able to guess George W. Bush. <br><br>\n",
    "Hashing functions work like this. However, in hashing, there is NO rule or pattern from the input to output data. It is impossible to guess the exact input given an output hash. Take a look at the next example after the function we have defined."
   ]
  },
  {
   "cell_type": "code",
   "execution_count": 3,
   "id": "0488461c",
   "metadata": {},
   "outputs": [
    {
     "data": {
      "text/plain": [
       "'1355d8b4abf4f35eeec97303c7a0fa7087d8144d8905c09cb016912f8942e9c5'"
      ]
     },
     "execution_count": 3,
     "metadata": {},
     "output_type": "execute_result"
    }
   ],
   "source": [
    "updatehash(\"GWB\")"
   ]
  },
  {
   "cell_type": "code",
   "execution_count": 4,
   "id": "436f6389",
   "metadata": {},
   "outputs": [
    {
     "data": {
      "text/plain": [
       "'e7593b8d063b1ac11de6979fde149d89ea6dbe01a6bc7a6e48d2ce59c75b1cf5'"
      ]
     },
     "execution_count": 4,
     "metadata": {},
     "output_type": "execute_result"
    }
   ],
   "source": [
    "updatehash(\"GWb\")"
   ]
  },
  {
   "cell_type": "markdown",
   "id": "6e70afd7",
   "metadata": {},
   "source": [
    "The two output hashes above are completely different. Even one small change, in this case, changing a letter to lowercase, results in a completely different hash.<br><br>\n",
    "Hashing works with any form of input data. Here is an example of a hash of a list of strings. Notice that regardless of the size of the input data, we will always get a 64 digit sequence comprised of the numbers ```0-9``` and letters ```a-f```. This is because the hashing algoriths follow a hexadecimal numbering system."
   ]
  },
  {
   "cell_type": "code",
   "execution_count": 5,
   "id": "3955fbda",
   "metadata": {},
   "outputs": [
    {
     "data": {
      "text/plain": [
       "'c5fa9189ee592f7fd1d4ddd5169353ec08971ebdaead1ab0f560fe299c43433b'"
      ]
     },
     "execution_count": 5,
     "metadata": {},
     "output_type": "execute_result"
    }
   ],
   "source": [
    "updatehash(['Hello', 'Goodbye'])"
   ]
  },
  {
   "cell_type": "markdown",
   "id": "217a2f9d",
   "metadata": {},
   "source": [
    "### Constructing the Block Class"
   ]
  },
  {
   "cell_type": "markdown",
   "id": "51d52959",
   "metadata": {},
   "source": [
    "Using OOP, we create a new class called a ```Block```. This will allow us to define certain variables and methods that we want the ```Block``` object to have. <br>\n",
    "Every block in a blockchain contains certain elements of data. Because we are implementing a very simplified blockchain, I have only included the essential elements: ```data```, ```hash```, ```nonce```, ```previous_hash```. <br>\n",
    "The previous hash is the hash of the mined preceding block. Since this element is used in each block, this means that the previous block is associated with the next block. Since any change affects the output hash, this ensures that the data in the blocks that have already been mined in the chain have not been tampered with."
   ]
  },
  {
   "cell_type": "code",
   "execution_count": 6,
   "id": "25b7e34c",
   "metadata": {},
   "outputs": [],
   "source": [
    "class Block():\n",
    "    data = None\n",
    "    hash = None\n",
    "    nonce = 0\n",
    "    previous_hash = '0'* 64\n",
    "\n",
    "    def __init__(self, data, number = 0):\n",
    "        self.data = data\n",
    "        self.number = number\n",
    "\n",
    "    def hash(self):\n",
    "        return updatehash(\n",
    "            self.previous_hash,\n",
    "            self.number,\n",
    "            self.data,\n",
    "            self.nonce\n",
    "        )\n",
    "\n",
    "    def __str__(self):\n",
    "        return str('Block #: %s\\nHash: %s\\nPrevious Hash: %s\\nData: %s\\nNonce: %s\\n' %(\n",
    "            self.number,\n",
    "            self.hash(),\n",
    "            self.previous_hash,\n",
    "            self.data,\n",
    "            self.nonce\n",
    "        ))"
   ]
  },
  {
   "cell_type": "markdown",
   "id": "10455f82",
   "metadata": {},
   "source": [
    "### Constructing the Blockchain Class"
   ]
  },
  {
   "cell_type": "markdown",
   "id": "deff0e3e",
   "metadata": {},
   "source": [
    "Again using OOP, we create a new class called a ```Blockchain```. Here we have defined functions that will add, remove, and mine blocks to the chain. <br>\n",
    "I have also defined a function that checks whether the block is valid (meaning that the data in the block has not been modified)."
   ]
  },
  {
   "cell_type": "code",
   "execution_count": 7,
   "id": "23f69748",
   "metadata": {},
   "outputs": [],
   "source": [
    "class Blockchain():\n",
    "\n",
    "    def __init__(self, difficulty, chain = []):\n",
    "        self.difficulty = difficulty\n",
    "        self.chain = chain\n",
    "\n",
    "    def add(self, block):\n",
    "        self.chain.append(block)\n",
    "\n",
    "    def remove(self, block):\n",
    "        self.chain.remove(block)\n",
    "\n",
    "    def mine(self, block):\n",
    "        try:\n",
    "            block.previous_hash = self.chain[-1].hash()\n",
    "        except IndexError:\n",
    "            pass\n",
    "        while True:\n",
    "            if block.hash()[:self.difficulty] == \"0\" * self.difficulty:\n",
    "                self.add(block); break\n",
    "            else:\n",
    "                block.nonce += 1\n",
    "\n",
    "    def isValid(self):\n",
    "        for i in range(1, len(self.chain)):\n",
    "            _previous = self.chain[i].previous_hash\n",
    "            _current = self.chain[i-1].hash()\n",
    "            if _previous != _current or _current[:self.difficulty] != '0'* self.difficulty:\n",
    "                return False\n",
    "        return True"
   ]
  },
  {
   "cell_type": "markdown",
   "id": "0ab95976",
   "metadata": {},
   "source": [
    "### Defining the Proof-of-Work Function"
   ]
  },
  {
   "cell_type": "markdown",
   "id": "c71a318c",
   "metadata": {},
   "source": [
    "This is essentially where the consensus algorithm comes in. Remember that earlier above in the ```Block``` class object there is an element called a ```nonce```. The way PoW works is that the computer is changing an element of the block (the nonce) and recomputing a hash that meets the requirements of the consensus algorithm. Every piece of data in the block remains the same, but the nonce is just a number that is used incrementally to find a hash that satisfies the consensus algorithm rule."
   ]
  },
  {
   "cell_type": "code",
   "execution_count": 8,
   "id": "4e225546",
   "metadata": {},
   "outputs": [],
   "source": [
    "def mine(data, difficulty):\n",
    "    blockchain = Blockchain(difficulty)\n",
    "\n",
    "    num = 0\n",
    "    for item in data:\n",
    "        num += 1\n",
    "        blockchain.mine(Block(item, num))\n",
    "\n",
    "    for block in blockchain.chain:\n",
    "        print(block)"
   ]
  },
  {
   "cell_type": "code",
   "execution_count": 9,
   "id": "a7f942f1",
   "metadata": {},
   "outputs": [
    {
     "name": "stdout",
     "output_type": "stream",
     "text": [
      "Block #: 1\n",
      "Hash: 00721179dd91101323879a0df33f8a6a151842ad7c67303b3edfb7ef1249fa40\n",
      "Previous Hash: 0000000000000000000000000000000000000000000000000000000000000000\n",
      "Data: hi\n",
      "Nonce: 240\n",
      "\n",
      "Block #: 2\n",
      "Hash: 0001a9af267b9ca10efb5923aa1bcb4f1e3e218022a1d6b364519882b5436e8d\n",
      "Previous Hash: 00721179dd91101323879a0df33f8a6a151842ad7c67303b3edfb7ef1249fa40\n",
      "Data: bye\n",
      "Nonce: 29\n",
      "\n",
      "Block #: 3\n",
      "Hash: 005e33e4337c6fe1a22f9bb5551668cccaef401db9c91433a033a69fdcaa957c\n",
      "Previous Hash: 0001a9af267b9ca10efb5923aa1bcb4f1e3e218022a1d6b364519882b5436e8d\n",
      "Data: hello\n",
      "Nonce: 82\n",
      "\n"
     ]
    }
   ],
   "source": [
    "blockchain1 = mine([\"hi\", \"bye\", \"hello\"], 2)"
   ]
  },
  {
   "cell_type": "markdown",
   "id": "7483bd34",
   "metadata": {},
   "source": [
    "### Understanding the Above Mining Process"
   ]
  },
  {
   "cell_type": "markdown",
   "id": "822a1469",
   "metadata": {},
   "source": [
    "First, we mined the data ```[\"hi\", \"bye\", \"hello]``` to the blockchain with a difficulty of 2. What's happening here is that each element of this list is being verified on the chain (AKA mining). <br><br>Notice that the first block (called a genesis block) has a default previous hash of ```0000000000000000000000000000000000000000000000000000000000000000```, which we defined above when we instantiated the Block object. <br><br>The nonce of the genesis block is 240, which means when we are mining ```\"hi\"``` to the chain, the computer had to try a new nonce (by increasing the nonce by 1) and computed a new hash 240 times until the output hash satisfied the difficulty requirements we set above. Verifying the second data element ```\"bye\"``` required 29 tries, and so forth. <br>A difficulty of ```2``` forces the computer to find a hash that starts with at least two zeroes. <br><br>\n",
    "As you increase the difficulty, you will see that the nonces increase substantially as we are forcing the requirements to be stricter. Not only do the nonces increase, but the time it takes for your computer to calculate and mine the data will also increase. This is why you may have heard that Proof-of-Work is computationally expensive and takes up large amounts of resources. In a real blockchain such as Ethereum, the consensus algorithms are much more rigorous.<br><br><i>Note: As of September 15th, 2022, Ethereum uses a Proof-of-Stake consensus algorithm instead of PoW, which is less ~99% less computationally expensive.</i>"
   ]
  },
  {
   "cell_type": "markdown",
   "id": "54ab8b82",
   "metadata": {},
   "source": [
    "Defined in the ```Blockchain``` class is an ```isValid()``` function. If you try to change the data that is already mined in the chain, for example, if you tried to change the second data element from ```\"bye\"``` to ```\"Bye\"```, this would completely change the hash and render this block and all of the following blocks as invalid."
   ]
  },
  {
   "cell_type": "markdown",
   "id": "1109246f",
   "metadata": {},
   "source": [
    "### Cheers! Now you have seen the basic fundamentals of how a blockchain encrypts and secures data."
   ]
  }
 ],
 "metadata": {
  "kernelspec": {
   "display_name": "Python 3 (ipykernel)",
   "language": "python",
   "name": "python3"
  },
  "language_info": {
   "codemirror_mode": {
    "name": "ipython",
    "version": 3
   },
   "file_extension": ".py",
   "mimetype": "text/x-python",
   "name": "python",
   "nbconvert_exporter": "python",
   "pygments_lexer": "ipython3",
   "version": "3.9.7"
  }
 },
 "nbformat": 4,
 "nbformat_minor": 5
}
