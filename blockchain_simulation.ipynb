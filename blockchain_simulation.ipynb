{
 "cells": [
  {
   "cell_type": "markdown",
   "id": "890322f3",
   "metadata": {},
   "source": [
    "# Demonstration of Proof-of-Work and Mining using Python"
   ]
  },
  {
   "cell_type": "markdown",
   "id": "ca95efb9",
   "metadata": {},
   "source": [
    "### Importing the SHA-256 hashing algorithm"
   ]
  },
  {
   "cell_type": "code",
   "execution_count": 1,
   "id": "c56fc6c3",
   "metadata": {},
   "outputs": [],
   "source": [
    "from hashlib import sha256"
   ]
  },
  {
   "cell_type": "markdown",
   "id": "1f7cd15b",
   "metadata": {},
   "source": [
    "### Defining the function that will output the data using the hashing algorithm"
   ]
  },
  {
   "cell_type": "markdown",
   "id": "2342fc3f",
   "metadata": {},
   "source": [
    "Hashing algorithms are the backbone of the security in the blockchain. They are one-way mathematical functions that are computationally infeasible to reverse-engineer. They take in input data, and output data of a fixed length."
   ]
  },
  {
   "cell_type": "markdown",
   "id": "1a98ffb8",
   "metadata": {},
   "source": [
    "#### An elementary comparison/explanation of what hashing is: Name Initials"
   ]
  },
  {
   "cell_type": "markdown",
   "id": "002c7d03",
   "metadata": {},
   "source": [
    "Assume that in this case, we have a list of people's names. <br>\n",
    "The names will be the input data, and we want the output data to be a fixed string of 3 letters.<br><b>\n",
    "John F. Kennedy  &rarr;  JFK<br>\n",
    "George W. Bush  &rarr;  GWB<br>\n",
    "Franklin D. Roosevelt  &rarr;  FDR<br></b>\n",
    "However, we know that in defining initials there is a rule where we take the first letter of the first, middle, and last names. This is an example of a one-way function; if someone were to ask you to guess the whole name only given three initials, say, GWB, you would most likely not be able to guess George W. Bush. <br>\n",
    "Hashing functions work like this. However, in hashing, there is no rule or pattern from the input to output data. It is not computationally feasible to try to guess the exact input given an output hash. Take a look at the next example after the function we have defined."
   ]
  },
  {
   "cell_type": "code",
   "execution_count": 2,
   "id": "007d000a",
   "metadata": {},
   "outputs": [],
   "source": [
    "def updatehash(*args):\n",
    "    hashing_text = ''; h = sha256()\n",
    "    for arg in args:\n",
    "        hashing_text += str(arg)\n",
    "\n",
    "    h.update(hashing_text.encode('utf-8'))\n",
    "    return h.hexdigest()\n"
   ]
  },
  {
   "cell_type": "code",
   "execution_count": 3,
   "id": "ee4b57ac",
   "metadata": {},
   "outputs": [
    {
     "data": {
      "text/plain": [
       "'1355d8b4abf4f35eeec97303c7a0fa7087d8144d8905c09cb016912f8942e9c5'"
      ]
     },
     "execution_count": 3,
     "metadata": {},
     "output_type": "execute_result"
    }
   ],
   "source": [
    "updatehash(\"GWB\")"
   ]
  },
  {
   "cell_type": "code",
   "execution_count": 4,
   "id": "f0361028",
   "metadata": {},
   "outputs": [
    {
     "data": {
      "text/plain": [
       "'e7593b8d063b1ac11de6979fde149d89ea6dbe01a6bc7a6e48d2ce59c75b1cf5'"
      ]
     },
     "execution_count": 4,
     "metadata": {},
     "output_type": "execute_result"
    }
   ],
   "source": [
    "updatehash(\"GWb\")"
   ]
  },
  {
   "cell_type": "markdown",
   "id": "32116462",
   "metadata": {},
   "source": [
    "The two output hashes above are completely different. Even one small change, in this case, changing a letter to lowercase, results in a completely different hash.<br>\n",
    "Hashing works with any form of input data. Here is an example of a hash of a list of strings. Notice that regardless of the size of the input data, we will always get a 64 digit sequence comprised of the numbers 0-9 and a-f. This is because the hashing algoriths follow a hexadecimal numbering system."
   ]
  },
  {
   "cell_type": "code",
   "execution_count": 5,
   "id": "a51d8a7d",
   "metadata": {},
   "outputs": [
    {
     "data": {
      "text/plain": [
       "'c5fa9189ee592f7fd1d4ddd5169353ec08971ebdaead1ab0f560fe299c43433b'"
      ]
     },
     "execution_count": 5,
     "metadata": {},
     "output_type": "execute_result"
    }
   ],
   "source": [
    "updatehash(['Hello', 'Goodbye'])"
   ]
  },
  {
   "cell_type": "markdown",
   "id": "79241d37",
   "metadata": {},
   "source": [
    "### Constructing the Block Class"
   ]
  },
  {
   "cell_type": "markdown",
   "id": "03754498",
   "metadata": {},
   "source": [
    "Using OOP, we create a new class called a Block. This will allow us to define certain variables and methods that we want the Block object to have. <br>\n",
    "Every block in a blockchain contains certain elements of data. Because we are implementing a very simplified blockchain, I have only included the essential elements: <b>data, hash, nonce, previous hash</b>. <br>\n",
    "The previous hash is the hash of the preceding block that was mined right before. Since this element is used in each block, this means that the previous block is associated with the next block. Since any change affects the output hash, this ensures that the blocks that have already been mined in the chain have not been tampered with."
   ]
  },
  {
   "cell_type": "code",
   "execution_count": 6,
   "id": "662188e2",
   "metadata": {},
   "outputs": [],
   "source": [
    "class Block():\n",
    "    data = None\n",
    "    hash = None\n",
    "    nonce = 0\n",
    "    previous_hash = '0'* 64\n",
    "\n",
    "    def __init__(self, data, number = 0):\n",
    "        self.data = data\n",
    "        self.number = number\n",
    "\n",
    "    def hash(self):\n",
    "        return updatehash(\n",
    "            self.previous_hash,\n",
    "            self.number,\n",
    "            self.data,\n",
    "            self.nonce\n",
    "        )\n",
    "\n",
    "    def __str__(self):\n",
    "        return str('Block #: %s\\nHash: %s\\nPrevious Hash: %s\\nData: %s\\nNonce: %s\\n' %(\n",
    "            self.number,\n",
    "            self.hash(),\n",
    "            self.previous_hash,\n",
    "            self.data,\n",
    "            self.nonce\n",
    "        ))"
   ]
  },
  {
   "cell_type": "markdown",
   "id": "ab3ebf4b",
   "metadata": {},
   "source": [
    "### Constructing the Blockchain Class"
   ]
  },
  {
   "cell_type": "markdown",
   "id": "30f4dba6",
   "metadata": {},
   "source": [
    "Again using OOP, we create a new class called a Blockchain. Here we have defined functions that will add, remove, and mine blocks to the chain. <br>\n",
    "I have also defined a function that checks whether the block is valid (meaning that the data in the block has not been modified)."
   ]
  },
  {
   "cell_type": "code",
   "execution_count": 7,
   "id": "2321ffa3",
   "metadata": {},
   "outputs": [],
   "source": [
    "class Blockchain():\n",
    "\n",
    "    def __init__(self, difficulty, chain = []):\n",
    "        self.difficulty = difficulty\n",
    "        self.chain = chain\n",
    "\n",
    "    def add(self, block):\n",
    "        self.chain.append(block)\n",
    "\n",
    "    def remove(self, block):\n",
    "        self.chain.remove(block)\n",
    "\n",
    "    def mine(self, block):\n",
    "        try:\n",
    "            block.previous_hash = self.chain[-1].hash()\n",
    "        except IndexError:\n",
    "            pass\n",
    "        while True:\n",
    "            if block.hash()[:self.difficulty] == \"0\" * self.difficulty:\n",
    "                self.add(block); break\n",
    "            else:\n",
    "                block.nonce += 1\n",
    "\n",
    "    def isValid(self):\n",
    "        for i in range(1, len(self.chain)):\n",
    "            _previous = self.chain[i].previous_hash\n",
    "            _current = self.chain[i-1].hash()\n",
    "            if _previous != _current or _current[:self.difficulty] != '0'* self.difficulty:\n",
    "                return False\n",
    "        return True"
   ]
  },
  {
   "cell_type": "markdown",
   "id": "dbfd2543",
   "metadata": {},
   "source": [
    "### Defining the Proof-of-work function"
   ]
  },
  {
   "cell_type": "markdown",
   "id": "f21eed98",
   "metadata": {},
   "source": [
    "This is essentially where the consensus algorithm comes in. Remember that earlier above in the Block class object there is an element called a <b>nonce</b>. The way PoW works is that the computer is changing an element of the block (the nonce) and recomputing a hash that meets the requirements of the consensus algorithm. Every piece of data in the block remains the same, but the nonce is just a number that is used incrementally to find a hash that satisfies the consensus algorithm rule. "
   ]
  },
  {
   "cell_type": "code",
   "execution_count": 8,
   "id": "27acb958",
   "metadata": {},
   "outputs": [],
   "source": [
    "def mine(data, difficulty):\n",
    "    blockchain = Blockchain(difficulty)\n",
    "\n",
    "    num = 0\n",
    "    for item in data:\n",
    "        num += 1\n",
    "        blockchain.mine(Block(item, num))\n",
    "\n",
    "    for block in blockchain.chain:\n",
    "        print(block)"
   ]
  },
  {
   "cell_type": "code",
   "execution_count": 9,
   "id": "9d7b0adc",
   "metadata": {},
   "outputs": [
    {
     "name": "stdout",
     "output_type": "stream",
     "text": [
      "Block #: 1\n",
      "Hash: 00721179dd91101323879a0df33f8a6a151842ad7c67303b3edfb7ef1249fa40\n",
      "Previous Hash: 0000000000000000000000000000000000000000000000000000000000000000\n",
      "Data: hi\n",
      "Nonce: 240\n",
      "\n"
     ]
    }
   ],
   "source": [
    "blockchain1 = mine([\"hi\"], 2)"
   ]
  },
  {
   "cell_type": "code",
   "execution_count": 10,
   "id": "661b67ab",
   "metadata": {},
   "outputs": [
    {
     "name": "stdout",
     "output_type": "stream",
     "text": [
      "Block #: 1\n",
      "Hash: 00721179dd91101323879a0df33f8a6a151842ad7c67303b3edfb7ef1249fa40\n",
      "Previous Hash: 0000000000000000000000000000000000000000000000000000000000000000\n",
      "Data: hi\n",
      "Nonce: 240\n",
      "\n",
      "Block #: 1\n",
      "Hash: 000b93934a91e5b892d3629e2ca7aec1f5c55018c3bd3eaf9b4f594d34e76f65\n",
      "Previous Hash: 00721179dd91101323879a0df33f8a6a151842ad7c67303b3edfb7ef1249fa40\n",
      "Data: bye\n",
      "Nonce: 3038\n",
      "\n"
     ]
    }
   ],
   "source": [
    "blockchain1 = mine([\"bye\"], 3)"
   ]
  },
  {
   "cell_type": "markdown",
   "id": "d623bd3d",
   "metadata": {},
   "source": [
    "### Understanding the above mining process"
   ]
  },
  {
   "cell_type": "markdown",
   "id": "e961ec5d",
   "metadata": {},
   "source": [
    "First, we mined the data \"hi\" to the blockchain with a difficulty of 2. Notice that the Nonce is 240. This means that the computer had to recompute a new hash 240 times until it found one that satisfied the requirements we set above. In the next example, we mined some new data (\"bye\") to the chain but we increased the difficulty--so the computer had to recompute a hash 3038 times. Mining data to the chain with a higher difficulty also means that the latency time incrases. This is why you may have heard that Proof-of-Work is computationally expensive and takes up large amounts of resources. In a real blockchain, the consensus algorithms are much more strict."
   ]
  },
  {
   "cell_type": "code",
   "execution_count": null,
   "id": "c61c21a3",
   "metadata": {},
   "outputs": [],
   "source": []
  }
 ],
 "metadata": {
  "kernelspec": {
   "display_name": "Python 3 (ipykernel)",
   "language": "python",
   "name": "python3"
  },
  "language_info": {
   "codemirror_mode": {
    "name": "ipython",
    "version": 3
   },
   "file_extension": ".py",
   "mimetype": "text/x-python",
   "name": "python",
   "nbconvert_exporter": "python",
   "pygments_lexer": "ipython3",
   "version": "3.9.7"
  }
 },
 "nbformat": 4,
 "nbformat_minor": 5
}
